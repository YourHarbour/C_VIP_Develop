{
 "cells": [
  {
   "cell_type": "code",
   "execution_count": null,
   "metadata": {},
   "outputs": [],
   "source": [
    "import numpy as np\n",
    "import muon as mu\n",
    "from scipy.ndimage import gaussian_filter1d\n",
    "import pyBigWig\n",
    "import pandas as pd\n",
    "import scipy.ndimage\n",
    "\n"
   ]
  },
  {
   "cell_type": "code",
   "execution_count": null,
   "metadata": {},
   "outputs": [],
   "source": [
    "# read your muon data here\n",
    "mdata_processed = mu.read(\"muon_data/pbmc10k_processed.h5mu\")\n",
    "mdata_processed\n",
    "\n",
    "atac = mdata_processed.mod['atac']\n",
    "atac\n",
    "\n",
    "counts = atac.layers['counts'].toarray()\n",
    "intervals = atac.var['interval']"
   ]
  },
  {
   "cell_type": "code",
   "execution_count": null,
   "metadata": {},
   "outputs": [],
   "source": [
    "smooth_sigma = 2\n",
    "smoothed_counts = scipy.ndimage.gaussian_filter1d(counts, sigma=smooth_sigma, axis=1)"
   ]
  },
  {
   "cell_type": "code",
   "execution_count": null,
   "metadata": {},
   "outputs": [],
   "source": [
    "def smooth_counts(counts, sigma=3):\n",
    "    return gaussian_filter1d(counts, sigma=sigma, axis=0)\n",
    "\n",
    "smoothed_counts_t = smooth_counts(counts)"
   ]
  },
  {
   "cell_type": "code",
   "execution_count": null,
   "metadata": {},
   "outputs": [],
   "source": [
    "smoothed_counts.shape"
   ]
  },
  {
   "cell_type": "code",
   "execution_count": null,
   "metadata": {},
   "outputs": [],
   "source": [
    "gene_totals = np.sum(smoothed_counts, axis=0)\n",
    "gene_totals.shape"
   ]
  },
  {
   "cell_type": "code",
   "execution_count": null,
   "metadata": {},
   "outputs": [],
   "source": [
    "intervals_df = intervals.str.extract(r'(?P<chrom>[^:]+):(?P<start>\\d+)-(?P<end>\\d+)')\n",
    "intervals_df['start'] = intervals_df['start'].astype(int)\n",
    "intervals_df['end'] = intervals_df['end'].astype(int)\n",
    "\n",
    "intervals_df.shape\n",
    "intervals_df['smoothed_counts'] = gene_totals"
   ]
  },
  {
   "cell_type": "code",
   "execution_count": null,
   "metadata": {},
   "outputs": [],
   "source": [
    "intervals_df"
   ]
  },
  {
   "cell_type": "code",
   "execution_count": null,
   "metadata": {},
   "outputs": [],
   "source": [
    "intervals_df.to_csv('muon_data/atac_data.bedGraph', sep='\\t', index=False, header=False)"
   ]
  },
  {
   "cell_type": "code",
   "execution_count": null,
   "metadata": {},
   "outputs": [],
   "source": [
    "chrom_sizes = pd.read_csv('hg38.chrom.sizes', sep='\\t', header=None, names=['chrom', 'size'])"
   ]
  },
  {
   "cell_type": "code",
   "execution_count": null,
   "metadata": {},
   "outputs": [],
   "source": [
    "filtered_bedgraph = intervals_df[intervals_df['chrom'].isin(chrom_sizes['chrom'])]\n",
    "\n",
    "# save filtered bedGraph \n",
    "filtered_bedgraph.to_csv('muon_data/filtered_atac_data.bedGraph', sep='\\t', index=False, header=False)"
   ]
  },
  {
   "cell_type": "code",
   "execution_count": null,
   "metadata": {},
   "outputs": [],
   "source": [
    "filtered_bedgraph"
   ]
  }
 ],
 "metadata": {
  "kernelspec": {
   "display_name": ".venv",
   "language": "python",
   "name": "python3"
  },
  "language_info": {
   "codemirror_mode": {
    "name": "ipython",
    "version": 3
   },
   "file_extension": ".py",
   "mimetype": "text/x-python",
   "name": "python",
   "nbconvert_exporter": "python",
   "pygments_lexer": "ipython3",
   "version": "3.9.6"
  }
 },
 "nbformat": 4,
 "nbformat_minor": 2
}
